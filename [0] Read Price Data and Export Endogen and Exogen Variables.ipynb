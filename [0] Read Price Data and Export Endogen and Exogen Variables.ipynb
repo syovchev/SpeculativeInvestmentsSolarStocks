{
 "cells": [
  {
   "cell_type": "markdown",
   "metadata": {},
   "source": [
    "### Import libraries"
   ]
  },
  {
   "cell_type": "code",
   "execution_count": 1,
   "metadata": {},
   "outputs": [],
   "source": [
    "import pandas as pd\n",
    "import pandas_datareader as pdr\n",
    "from pandas.tseries.offsets import MonthEnd\n",
    "import getFamaFrenchFactors as gff\n",
    "\n",
    "import numpy as np\n",
    "\n",
    "import plotly.express as px\n",
    "import plotly.graph_objects as go\n",
    "import matplotlib\n",
    "from matplotlib import pyplot as plt\n",
    "import seaborn as sns\n",
    "\n",
    "sns.set_style('darkgrid')\n",
    "%matplotlib inline\n",
    "matplotlib.rc('font', **{'size': 12})\n",
    "\n",
    "import statsmodels.api as sm\n",
    "from statsmodels.regression.rolling import RollingOLS"
   ]
  },
  {
   "cell_type": "markdown",
   "metadata": {},
   "source": [
    "### Pull price data for our Solar Energy proxy"
   ]
  },
  {
   "cell_type": "code",
   "execution_count": 15,
   "metadata": {
    "scrolled": true
   },
   "outputs": [],
   "source": [
    "start = '01-01-2017'\n",
    "end   = '01-01-2022'\n",
    "\n",
    "tickers = ['QQQ']\n",
    "\n",
    "prices = pdr.DataReader(tickers, 'yahoo', start=start, end=end)\n",
    "prices = prices['Close']\n",
    "\n",
    "returns = prices.pct_change().resample('W').agg(lambda x: (1 + x).prod() - 1)\n",
    "# returns = prices.pct_change()\n",
    "returns *= 100\n",
    "returns = np.round(returns, 2)"
   ]
  },
  {
   "cell_type": "code",
   "execution_count": 14,
   "metadata": {},
   "outputs": [],
   "source": [
    "prices.to_csv('./output-data/prices.csv')"
   ]
  },
  {
   "cell_type": "markdown",
   "metadata": {},
   "source": [
    "### Pull Fama-French Industry Portfolios\n",
    "\n",
    "They will be used to model sector risk exposure."
   ]
  },
  {
   "cell_type": "code",
   "execution_count": 16,
   "metadata": {},
   "outputs": [],
   "source": [
    "def pull_ff_data(name, start, end):\n",
    "    ff = pdr.DataReader(name, 'famafrench', start=start, end=end)\n",
    "    ff = ff[0]\n",
    "    \n",
    "    return ff"
   ]
  },
  {
   "cell_type": "code",
   "execution_count": 17,
   "metadata": {},
   "outputs": [],
   "source": [
    "name = 'F-F_Research_Data_5_Factors_2x3_daily'\n",
    "\n",
    "ff_factors = pull_ff_data(name, start, end)\n",
    "ff_factors /= 100\n",
    "ff_factors = (ff_factors + 1).cumprod()\n",
    "\n",
    "ff_factors = ff_factors.pct_change().resample('W').agg(lambda x: (1 + x).prod() - 1)\n",
    "# ff_factors = ff_factors.pct_change()\n",
    "ff_factors *= 100"
   ]
  },
  {
   "cell_type": "code",
   "execution_count": 18,
   "metadata": {},
   "outputs": [
    {
     "name": "stdout",
     "output_type": "stream",
     "text": [
      "                            OLS Regression Results                            \n",
      "==============================================================================\n",
      "Dep. Variable:                      y   R-squared:                       0.942\n",
      "Model:                            OLS   Adj. R-squared:                  0.941\n",
      "Method:                 Least Squares   F-statistic:                     835.8\n",
      "Date:                Thu, 31 Mar 2022   Prob (F-statistic):          7.43e-156\n",
      "Time:                        15:22:11   Log-Likelihood:                -256.42\n",
      "No. Observations:                 261   AIC:                             524.8\n",
      "Df Residuals:                     255   BIC:                             546.2\n",
      "Df Model:                           5                                         \n",
      "Covariance Type:            nonrobust                                         \n",
      "==============================================================================\n",
      "                 coef    std err          t      P>|t|      [0.025      0.975]\n",
      "------------------------------------------------------------------------------\n",
      "const          0.0543      0.042      1.308      0.192      -0.027       0.136\n",
      "Mkt-RF         1.0289      0.017     59.987      0.000       0.995       1.063\n",
      "SMB           -0.0932      0.033     -2.816      0.005      -0.158      -0.028\n",
      "HML           -0.3427      0.028    -12.079      0.000      -0.399      -0.287\n",
      "RMW            0.1385      0.045      3.107      0.002       0.051       0.226\n",
      "CMA           -0.1878      0.055     -3.392      0.001      -0.297      -0.079\n",
      "==============================================================================\n",
      "Omnibus:                       13.006   Durbin-Watson:                   2.042\n",
      "Prob(Omnibus):                  0.001   Jarque-Bera (JB):               16.369\n",
      "Skew:                          -0.401   Prob(JB):                     0.000279\n",
      "Kurtosis:                       3.929   Cond. No.                         4.01\n",
      "==============================================================================\n",
      "\n",
      "Notes:\n",
      "[1] Standard Errors assume that the covariance matrix of the errors is correctly specified.\n"
     ]
    }
   ],
   "source": [
    "exogen = returns[returns.columns[1:]]\n",
    "exogen = pd.merge(exogen, ff_factors, on='Date', how='inner')\n",
    "\n",
    "exogen = sm.add_constant(exogen)\n",
    "\n",
    "portfolio = returns[returns.columns[0]]\n",
    "risk_free = exogen['RF']\n",
    "\n",
    "exogen = exogen.drop('RF', axis=1)\n",
    "\n",
    "endogen = portfolio - risk_free\n",
    "\n",
    "model = sm.OLS(endogen, exogen, missing='drop')\n",
    "results = model.fit()\n",
    "\n",
    "print(results.summary())"
   ]
  },
  {
   "cell_type": "code",
   "execution_count": 8,
   "metadata": {},
   "outputs": [],
   "source": [
    "exogen.to_csv('./lm-data/exogen.csv')\n",
    "endogen.to_csv('./lm-data/endogen.csv')"
   ]
  }
 ],
 "metadata": {
  "kernelspec": {
   "display_name": "Python 3",
   "language": "python",
   "name": "python3"
  },
  "language_info": {
   "codemirror_mode": {
    "name": "ipython",
    "version": 3
   },
   "file_extension": ".py",
   "mimetype": "text/x-python",
   "name": "python",
   "nbconvert_exporter": "python",
   "pygments_lexer": "ipython3",
   "version": "3.8.5"
  }
 },
 "nbformat": 4,
 "nbformat_minor": 4
}
