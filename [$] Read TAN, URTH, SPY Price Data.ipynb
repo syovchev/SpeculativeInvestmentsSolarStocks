{
 "cells": [
  {
   "cell_type": "markdown",
   "metadata": {},
   "source": [
    "### Import libraries"
   ]
  },
  {
   "cell_type": "code",
   "execution_count": 7,
   "metadata": {},
   "outputs": [],
   "source": [
    "import pandas as pd\n",
    "import pandas_datareader as pdr\n",
    "\n",
    "import numpy as np\n",
    "\n",
    "import plotly.express as px\n",
    "import plotly.graph_objects as go\n",
    "import matplotlib\n",
    "from matplotlib import pyplot as plt\n",
    "import seaborn as sns\n",
    "\n",
    "sns.set_style('darkgrid')\n",
    "%matplotlib inline\n",
    "matplotlib.rc('font', **{'size': 12})"
   ]
  },
  {
   "cell_type": "markdown",
   "metadata": {},
   "source": [
    "### Pull price data for our Solar Energy proxy"
   ]
  },
  {
   "cell_type": "code",
   "execution_count": 8,
   "metadata": {
    "scrolled": true
   },
   "outputs": [
    {
     "data": {
      "text/html": [
       "<div>\n",
       "<style scoped>\n",
       "    .dataframe tbody tr th:only-of-type {\n",
       "        vertical-align: middle;\n",
       "    }\n",
       "\n",
       "    .dataframe tbody tr th {\n",
       "        vertical-align: top;\n",
       "    }\n",
       "\n",
       "    .dataframe thead th {\n",
       "        text-align: right;\n",
       "    }\n",
       "</style>\n",
       "<table border=\"1\" class=\"dataframe\">\n",
       "  <thead>\n",
       "    <tr style=\"text-align: right;\">\n",
       "      <th>Symbols</th>\n",
       "      <th>TAN</th>\n",
       "      <th>SPY</th>\n",
       "      <th>URTH</th>\n",
       "    </tr>\n",
       "    <tr>\n",
       "      <th>Date</th>\n",
       "      <th></th>\n",
       "      <th></th>\n",
       "      <th></th>\n",
       "    </tr>\n",
       "  </thead>\n",
       "  <tbody>\n",
       "    <tr>\n",
       "      <th>2017-01-03</th>\n",
       "      <td>16.959999</td>\n",
       "      <td>225.240005</td>\n",
       "      <td>73.760002</td>\n",
       "    </tr>\n",
       "    <tr>\n",
       "      <th>2017-01-04</th>\n",
       "      <td>17.350000</td>\n",
       "      <td>226.580002</td>\n",
       "      <td>74.389999</td>\n",
       "    </tr>\n",
       "    <tr>\n",
       "      <th>2017-01-05</th>\n",
       "      <td>17.459999</td>\n",
       "      <td>226.399994</td>\n",
       "      <td>74.639999</td>\n",
       "    </tr>\n",
       "    <tr>\n",
       "      <th>2017-01-06</th>\n",
       "      <td>17.400000</td>\n",
       "      <td>227.210007</td>\n",
       "      <td>74.790001</td>\n",
       "    </tr>\n",
       "    <tr>\n",
       "      <th>2017-01-09</th>\n",
       "      <td>17.459999</td>\n",
       "      <td>226.460007</td>\n",
       "      <td>74.419998</td>\n",
       "    </tr>\n",
       "    <tr>\n",
       "      <th>...</th>\n",
       "      <td>...</td>\n",
       "      <td>...</td>\n",
       "      <td>...</td>\n",
       "    </tr>\n",
       "    <tr>\n",
       "      <th>2021-12-27</th>\n",
       "      <td>77.180000</td>\n",
       "      <td>477.260010</td>\n",
       "      <td>135.960007</td>\n",
       "    </tr>\n",
       "    <tr>\n",
       "      <th>2021-12-28</th>\n",
       "      <td>76.000000</td>\n",
       "      <td>476.869995</td>\n",
       "      <td>135.820007</td>\n",
       "    </tr>\n",
       "    <tr>\n",
       "      <th>2021-12-29</th>\n",
       "      <td>75.459999</td>\n",
       "      <td>477.480011</td>\n",
       "      <td>135.910004</td>\n",
       "    </tr>\n",
       "    <tr>\n",
       "      <th>2021-12-30</th>\n",
       "      <td>77.680000</td>\n",
       "      <td>476.160004</td>\n",
       "      <td>135.639999</td>\n",
       "    </tr>\n",
       "    <tr>\n",
       "      <th>2021-12-31</th>\n",
       "      <td>76.970001</td>\n",
       "      <td>474.959991</td>\n",
       "      <td>135.320007</td>\n",
       "    </tr>\n",
       "  </tbody>\n",
       "</table>\n",
       "<p>1259 rows × 3 columns</p>\n",
       "</div>"
      ],
      "text/plain": [
       "Symbols           TAN         SPY        URTH\n",
       "Date                                         \n",
       "2017-01-03  16.959999  225.240005   73.760002\n",
       "2017-01-04  17.350000  226.580002   74.389999\n",
       "2017-01-05  17.459999  226.399994   74.639999\n",
       "2017-01-06  17.400000  227.210007   74.790001\n",
       "2017-01-09  17.459999  226.460007   74.419998\n",
       "...               ...         ...         ...\n",
       "2021-12-27  77.180000  477.260010  135.960007\n",
       "2021-12-28  76.000000  476.869995  135.820007\n",
       "2021-12-29  75.459999  477.480011  135.910004\n",
       "2021-12-30  77.680000  476.160004  135.639999\n",
       "2021-12-31  76.970001  474.959991  135.320007\n",
       "\n",
       "[1259 rows x 3 columns]"
      ]
     },
     "execution_count": 8,
     "metadata": {},
     "output_type": "execute_result"
    }
   ],
   "source": [
    "start = '01-01-2017'\n",
    "end = '01-01-2022'\n",
    "\n",
    "tickers = ['TAN', 'SPY', 'URTH']\n",
    "\n",
    "prices = pdr.DataReader(tickers, 'yahoo', start=start, end=end)\n",
    "prices = prices['Close']\n",
    "\n",
    "prices"
   ]
  },
  {
   "cell_type": "markdown",
   "metadata": {},
   "source": [
    "### Calculate daily returns"
   ]
  },
  {
   "cell_type": "code",
   "execution_count": 9,
   "metadata": {
    "scrolled": false
   },
   "outputs": [],
   "source": [
    "returns = prices.pct_change(1)\n",
    "returns = np.exp(np.log1p(returns.cumsum()))\n",
    "returns *= 100"
   ]
  },
  {
   "cell_type": "code",
   "execution_count": 10,
   "metadata": {},
   "outputs": [
    {
     "data": {
      "text/plain": [
       "<AxesSubplot:xlabel='Date', ylabel='TAN'>"
      ]
     },
     "execution_count": 10,
     "metadata": {},
     "output_type": "execute_result"
    },
    {
     "data": {
      "image/png": "[encoded data removed]",
      "text/plain": [
       "<Figure size 432x288 with 1 Axes>"
      ]
     },
     "metadata": {
      "needs_background": "light"
     },
     "output_type": "display_data"
    }
   ],
   "source": [
    "sns.lineplot(x=returns.index, y=returns['TAN'])\n",
    "sns.lineplot(x=returns.index, y=returns['SPY'])\n",
    "sns.lineplot(x=returns.index, y=returns['URTH'])"
   ]
  },
  {
   "cell_type": "code",
   "execution_count": 11,
   "metadata": {},
   "outputs": [],
   "source": [
    "returns.to_csv('./solar_energy_returns_vs_market.csv')"
   ]
  }
 ],
 "metadata": {
  "kernelspec": {
   "display_name": "Python 3",
   "language": "python",
   "name": "python3"
  },
  "language_info": {
   "codemirror_mode": {
    "name": "ipython",
    "version": 3
   },
   "file_extension": ".py",
   "mimetype": "text/x-python",
   "name": "python",
   "nbconvert_exporter": "python",
   "pygments_lexer": "ipython3",
   "version": "3.8.5"
  }
 },
 "nbformat": 4,
 "nbformat_minor": 4
}
